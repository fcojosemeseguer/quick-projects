{
 "cells": [
  {
   "cell_type": "markdown",
   "id": "2f3e944e",
   "metadata": {},
   "source": [
    "# **PersonaPick**\n",
    "### Tool designed to spot a specific persona/personas from the videos in a folder and copy the videos in which that persona/personas appears"
   ]
  },
  {
   "cell_type": "markdown",
   "id": "a887d816",
   "metadata": {},
   "source": [
    "## **Import Modules**"
   ]
  },
  {
   "cell_type": "code",
   "execution_count": 2,
   "id": "b8436352",
   "metadata": {},
   "outputs": [],
   "source": [
    "import cv2\n",
    "import os\n",
    "import shutil\n",
    "from tqdm import tqdm\n",
    "import face_recognition"
   ]
  },
  {
   "cell_type": "markdown",
   "id": "4db3e851",
   "metadata": {},
   "source": [
    "## **Load the face images of the Persona(s)**"
   ]
  },
  {
   "cell_type": "code",
   "execution_count": 1,
   "id": "edce4385",
   "metadata": {},
   "outputs": [],
   "source": [
    "def load_known_faces(known_faces_dir):\n",
    "    known_encodings = []\n",
    "    known_names = []\n",
    "\n",
    "    for person_name in os.listdir(known_faces_dir):\n",
    "        person_folder = os.path.join(known_faces_dir, person_name)\n",
    "        if not os.path.isdir(person_folder):\n",
    "            continue\n",
    "\n",
    "        for filename in os.listdir(person_folder):\n",
    "            if filename.endswith(('.jpg', '.jpeg', '.png')):\n",
    "                image_path = os.path.join(person_folder, filename)\n",
    "                image = face_recognition.load_image_file(image_path)\n",
    "                encodings = face_recognition.face_encodings(image)\n",
    "\n",
    "                if encodings:\n",
    "                    encoding = encodings[0]\n",
    "                    known_encodings.append(encoding)\n",
    "                    known_names.append(person_name)\n",
    "\n",
    "    return known_encodings, known_names"
   ]
  },
  {
   "cell_type": "code",
   "execution_count": 3,
   "id": "cb2f3087",
   "metadata": {},
   "outputs": [],
   "source": [
    "known_faces_folder = 'reference'\n",
    "known_encodings, known_names = load_known_faces(known_faces_folder)"
   ]
  },
  {
   "cell_type": "markdown",
   "id": "3a4904ec",
   "metadata": {},
   "source": [
    "## **Face Detection**"
   ]
  },
  {
   "cell_type": "code",
   "execution_count": 4,
   "id": "7d46aeaa",
   "metadata": {},
   "outputs": [],
   "source": [
    "def detect_known_faces_in_video(video_path, known_encodings, known_names, max_frames=30):\n",
    "    cap = cv2.VideoCapture(video_path)\n",
    "    frame_count = 0\n",
    "    detected_people = set()\n",
    "\n",
    "    while cap.isOpened() and frame_count < max_frames:\n",
    "        ret, frame = cap.read()\n",
    "        if not ret:\n",
    "            break\n",
    "\n",
    "        rgb_frame = cv2.cvtColor(frame, cv2.COLOR_BGR2RGB)\n",
    "        face_locations = face_recognition.face_locations(rgb_frame)\n",
    "        face_encodings = face_recognition.face_encodings(rgb_frame, face_locations)\n",
    "\n",
    "        for encoding in face_encodings:\n",
    "            matches = face_recognition.compare_faces(known_encodings, encoding, tolerance=0.6)\n",
    "            name = \"Unknown\"\n",
    "\n",
    "            if True in matches:\n",
    "                match_index = matches.index(True)\n",
    "                name = known_names[match_index]\n",
    "                detected_people.add(name)\n",
    "\n",
    "        frame_count += 1\n",
    "\n",
    "    cap.release()\n",
    "    return detected_people"
   ]
  },
  {
   "cell_type": "markdown",
   "id": "8425880f",
   "metadata": {},
   "source": [
    "## **Upload Videos to Scan and Establish Output Folder**"
   ]
  },
  {
   "cell_type": "code",
   "execution_count": 6,
   "id": "c255f0cb",
   "metadata": {},
   "outputs": [
    {
     "name": "stderr",
     "output_type": "stream",
     "text": [
      "  8%|▊         | 3/38 [00:51<11:16, 19.32s/it]"
     ]
    },
    {
     "name": "stdout",
     "output_type": "stream",
     "text": [
      "Found {'andrewtate'} in video10.mp4. Copying...\n"
     ]
    },
    {
     "name": "stderr",
     "output_type": "stream",
     "text": [
      " 26%|██▋       | 10/38 [03:02<09:59, 21.40s/it]"
     ]
    },
    {
     "name": "stdout",
     "output_type": "stream",
     "text": [
      "Found {'andrewtate'} in video17.mp4. Copying...\n"
     ]
    },
    {
     "name": "stderr",
     "output_type": "stream",
     "text": [
      " 29%|██▉       | 11/38 [03:31<10:44, 23.89s/it]"
     ]
    },
    {
     "name": "stdout",
     "output_type": "stream",
     "text": [
      "Found {'andrewtate'} in video18.mp4. Copying...\n"
     ]
    },
    {
     "name": "stderr",
     "output_type": "stream",
     "text": [
      " 32%|███▏      | 12/38 [04:03<11:23, 26.31s/it]"
     ]
    },
    {
     "name": "stdout",
     "output_type": "stream",
     "text": [
      "Found {'andrewtate'} in video19.mp4. Copying...\n"
     ]
    },
    {
     "name": "stderr",
     "output_type": "stream",
     "text": [
      " 37%|███▋      | 14/38 [05:09<12:30, 31.25s/it]"
     ]
    },
    {
     "name": "stdout",
     "output_type": "stream",
     "text": [
      "Found {'andrewtate'} in video20.mp4. Copying...\n"
     ]
    },
    {
     "name": "stderr",
     "output_type": "stream",
     "text": [
      " 39%|███▉      | 15/38 [05:38<11:48, 30.79s/it]"
     ]
    },
    {
     "name": "stdout",
     "output_type": "stream",
     "text": [
      "Found {'andrewtate'} in video21.mp4. Copying...\n"
     ]
    },
    {
     "name": "stderr",
     "output_type": "stream",
     "text": [
      " 42%|████▏     | 16/38 [06:18<12:13, 33.33s/it]"
     ]
    },
    {
     "name": "stdout",
     "output_type": "stream",
     "text": [
      "Found {'andrewtate'} in video22.mp4. Copying...\n"
     ]
    },
    {
     "name": "stderr",
     "output_type": "stream",
     "text": [
      " 53%|█████▎    | 20/38 [07:39<07:17, 24.29s/it]"
     ]
    },
    {
     "name": "stdout",
     "output_type": "stream",
     "text": [
      "Found {'andrewtate'} in video26.mp4. Copying...\n"
     ]
    },
    {
     "name": "stderr",
     "output_type": "stream",
     "text": [
      " 55%|█████▌    | 21/38 [08:35<09:35, 33.85s/it]"
     ]
    },
    {
     "name": "stdout",
     "output_type": "stream",
     "text": [
      "Found {'andrewtate'} in video27.mp4. Copying...\n"
     ]
    },
    {
     "name": "stderr",
     "output_type": "stream",
     "text": [
      " 63%|██████▎   | 24/38 [09:59<06:57, 29.80s/it]"
     ]
    },
    {
     "name": "stdout",
     "output_type": "stream",
     "text": [
      "Found {'andrewtate'} in video3.mp4. Copying...\n"
     ]
    },
    {
     "name": "stderr",
     "output_type": "stream",
     "text": [
      " 71%|███████   | 27/38 [11:47<06:43, 36.71s/it]"
     ]
    },
    {
     "name": "stdout",
     "output_type": "stream",
     "text": [
      "Found {'andrewtate'} in video32.mp4. Copying...\n"
     ]
    },
    {
     "name": "stderr",
     "output_type": "stream",
     "text": [
      " 79%|███████▉  | 30/38 [12:53<03:30, 26.34s/it]"
     ]
    },
    {
     "name": "stdout",
     "output_type": "stream",
     "text": [
      "Found {'andrewtate'} in video35.mp4. Copying...\n"
     ]
    },
    {
     "name": "stderr",
     "output_type": "stream",
     "text": [
      " 89%|████████▉ | 34/38 [14:30<01:39, 24.86s/it]"
     ]
    },
    {
     "name": "stdout",
     "output_type": "stream",
     "text": [
      "Found {'andrewtate'} in video5.mp4. Copying...\n"
     ]
    },
    {
     "name": "stderr",
     "output_type": "stream",
     "text": [
      " 92%|█████████▏| 35/38 [14:57<01:16, 25.51s/it]"
     ]
    },
    {
     "name": "stdout",
     "output_type": "stream",
     "text": [
      "Found {'andrewtate'} in video6.mp4. Copying...\n"
     ]
    },
    {
     "name": "stderr",
     "output_type": "stream",
     "text": [
      " 95%|█████████▍| 36/38 [15:29<00:54, 27.40s/it]"
     ]
    },
    {
     "name": "stdout",
     "output_type": "stream",
     "text": [
      "Found {'andrewtate'} in video7.mp4. Copying...\n"
     ]
    },
    {
     "name": "stderr",
     "output_type": "stream",
     "text": [
      " 97%|█████████▋| 37/38 [16:31<00:37, 37.97s/it]"
     ]
    },
    {
     "name": "stdout",
     "output_type": "stream",
     "text": [
      "Found {'andrewtate'} in video8.mp4. Copying...\n"
     ]
    },
    {
     "name": "stderr",
     "output_type": "stream",
     "text": [
      "100%|██████████| 38/38 [16:59<00:00, 26.83s/it]\n"
     ]
    }
   ],
   "source": [
    "input_folder = 'videos'\n",
    "output_folder = 'videos_face_matches'\n",
    "\n",
    "os.makedirs(output_folder, exist_ok=True)\n",
    "\n",
    "for video_file in tqdm(os.listdir(input_folder)):\n",
    "    if video_file.endswith(('.mp4', '.avi', '.mov')):\n",
    "        video_path = os.path.join(input_folder, video_file)\n",
    "        detected_people = detect_known_faces_in_video(video_path, known_encodings, known_names)\n",
    "\n",
    "        if detected_people:\n",
    "            print(f\"Found {detected_people} in {video_file}. Copying...\")\n",
    "            shutil.copy(video_path, os.path.join(output_folder, video_file))"
   ]
  }
 ],
 "metadata": {
  "kernelspec": {
   "display_name": "MyEnvironment",
   "language": "python",
   "name": "python3"
  },
  "language_info": {
   "codemirror_mode": {
    "name": "ipython",
    "version": 3
   },
   "file_extension": ".py",
   "mimetype": "text/x-python",
   "name": "python",
   "nbconvert_exporter": "python",
   "pygments_lexer": "ipython3",
   "version": "3.11.11"
  }
 },
 "nbformat": 4,
 "nbformat_minor": 5
}
